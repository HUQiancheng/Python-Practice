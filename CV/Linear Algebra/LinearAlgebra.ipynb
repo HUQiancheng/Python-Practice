{
 "cells": [
  {
   "cell_type": "code",
   "execution_count": null,
   "metadata": {},
   "outputs": [],
   "source": []
  },
  {
   "cell_type": "markdown",
   "metadata": {},
   "source": [
    "Here is a point. \n",
    "The coordinates of this point in the original coordinate system. (row vec)\n",
    "The basis vector of the original coordinate system.\n",
    "Change the coordinate values of these two basis vectors to obtain a new basis vector.\n",
    "These baseis two vectors are combined to get the transformation matrix.(two ro vectors, combine in colum direction)\n",
    "dot the point and the matrix to get new point\n",
    "Draw a grid diagram of the new coordinate system (semi-transparent) inside the original one and along with the new point"
   ]
  }
 ],
 "metadata": {
  "language_info": {
   "name": "python"
  }
 },
 "nbformat": 4,
 "nbformat_minor": 2
}
