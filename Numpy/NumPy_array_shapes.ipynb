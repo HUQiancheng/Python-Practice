{
 "cells": [
  {
   "cell_type": "markdown",
   "metadata": {},
   "source": [
    "# Getting familiar with NumPy array usage:\n",
    ">Select the i2dl env in conda (which has almost everything)\n",
    "\n",
    ">Import NumPy first before started"
   ]
  },
  {
   "cell_type": "code",
   "execution_count": null,
   "metadata": {},
   "outputs": [],
   "source": [
    "import numpy as np"
   ]
  },
  {
   "cell_type": "markdown",
   "metadata": {},
   "source": [
    "## 1. Create an array with 36 elements"
   ]
  },
  {
   "cell_type": "code",
   "execution_count": null,
   "metadata": {},
   "outputs": [],
   "source": [
    "# arr0 = np.array([1.1, 2.1, 3.1, 4.1],[5.1, 6.1, 7.1, 8.1],[9.1, 10.1, 11.1, 12.1],[13.1, 14.1, 15.1, 16.1],[17.1, 18.1, 19.1, 20.1],[21.1, 22.1, 23.1, 24.1],[25.1, 26.1, 27.1, 28.1],[29.1, 30.1, 31.1, 32.1],[33.1, 34.1, 35.1, 36.1])\n",
    "# the above is not correct TypeError: array() takes from 1 to 2 positional arguments but 9 were given, missing square brackets \"[]\"\n",
    "arr0 = np.array([[1.1, 2.1, 3.1, 4.1],[5.1, 6.1, 7.1, 8.1],[9.1, 10.1, 11.1, 12.1],[13.1, 14.1, 15.1, 16.1],[17.1, 18.1, 19.1, 20.1],[21.1, 22.1, 23.1, 24.1],[25.1, 26.1, 27.1, 28.1],[29.1, 30.1, 31.1, 32.1],[33.1, 34.1, 35.1, 36.1]])\n",
    "print(\"arr0:\\n\", arr0)\n",
    "print(\"arr0 shape:\\n\", arr0.shape)\n",
    "print(\"arr0 data type:\\n\", arr0.dtype)"
   ]
  },
  {
   "cell_type": "markdown",
   "metadata": {},
   "source": [
    "## 2. Convert data type to int"
   ]
  },
  {
   "cell_type": "code",
   "execution_count": null,
   "metadata": {},
   "outputs": [],
   "source": [
    "print(\"\\n=======convert data type to int=======\\n\")\n",
    "arr0 = arr0.astype(int)\n",
    "print(\"arr0:\\n\", arr0)\n",
    "print(\"arr0 datatype:\\n\", arr0.dtype)"
   ]
  },
  {
   "cell_type": "markdown",
   "metadata": {},
   "source": [
    "## 3. Reshape the array"
   ]
  },
  {
   "cell_type": "markdown",
   "metadata": {},
   "source": [
    "### 3.1 Reshape arr0:"
   ]
  },
  {
   "cell_type": "code",
   "execution_count": null,
   "metadata": {},
   "outputs": [],
   "source": [
    "# reshape to 6x6\n",
    "print(\"1. reshape to 6x6:\\n\")\n",
    "arr0 = arr0.reshape(6,6)\n",
    "print(\"arr0:\\n\", arr0)\n",
    "print(\"arr0 shape:\", arr0.shape)\n"
   ]
  },
  {
   "cell_type": "code",
   "execution_count": null,
   "metadata": {},
   "outputs": [],
   "source": [
    "# reshape to 3x12 using -1\n",
    "print(\"\\n2. reshape to 3x12 using -1:   #.reshape(3, -1) or. reshape(-1, 12)\\n\")\n",
    "arr0 = arr0.reshape(3,-1)\n",
    "print(\"arr0:\\n\", arr0)\n",
    "print(\"arr0 shape:\", arr0.shape)"
   ]
  },
  {
   "cell_type": "code",
   "execution_count": null,
   "metadata": {},
   "outputs": [],
   "source": [
    "# reshape to 4x9 using -1\n",
    "print(\"\\n3. reshape to 4x9 using -1:    #.reshape(4, -1) or. reshape(-1, 9)\\n\")\n",
    "arr0 = arr0.reshape(4,-1)\n",
    "print(\"arr0:\\n\", arr0)\n",
    "print(\"arr0 shape:\", arr0.shape)"
   ]
  },
  {
   "cell_type": "code",
   "execution_count": null,
   "metadata": {},
   "outputs": [],
   "source": [
    "# reshape back to 6x6\n",
    "print(\"\\n4. reshape back to 6x6:\\n\")\n",
    "arr0 = arr0.reshape(6,6)\n",
    "print(\"arr0:\\n\", arr0)\n",
    "print(\"arr0 shape:\", arr0.shape)"
   ]
  },
  {
   "cell_type": "code",
   "execution_count": null,
   "metadata": {},
   "outputs": [],
   "source": [
    "# reshape to row vector using -1\n",
    "print(\"\\n4. reshape to row vector using -1: # using .reshape(1, -1)\\n\")\n",
    "arr0 = arr0.reshape(1,-1)\n",
    "print(\"arr0:\\n\", arr0)\n",
    "print(\"arr0 shape:\", arr0.shape)"
   ]
  },
  {
   "cell_type": "code",
   "execution_count": null,
   "metadata": {},
   "outputs": [],
   "source": [
    "# reshape to column vector using -1\n",
    "print(\"\\n5. reshape to column vector using -1:  # using .reshape(-1, 1)\\n\")\n",
    "arr0 = arr0.reshape(-1,1)\n",
    "print(\"arr0:\\n\", arr0)\n",
    "print(\"arr0 shape:\", arr0.shape)"
   ]
  },
  {
   "cell_type": "code",
   "execution_count": null,
   "metadata": {},
   "outputs": [],
   "source": [
    "# reshape back to 6x6\n",
    "print(\"\\n6. reshape back to 6x6:\\n\")\n",
    "arr0 = arr0.reshape(6,6)\n",
    "print(\"arr0:\\n\", arr0)\n",
    "print(\"arr0 shape:\", arr0.shape)"
   ]
  },
  {
   "cell_type": "code",
   "execution_count": null,
   "metadata": {},
   "outputs": [],
   "source": [
    "# using flatten to reshape to 1D array\n",
    "print(\"\\n7. using flatten to reshape to 1D array:\\n\")\n",
    "arr_flat = arr0.flatten()\n",
    "print(\"arr_flat:\", arr_flat)\n",
    "print(\"arr_flat shape:\", arr_flat.shape)"
   ]
  },
  {
   "cell_type": "code",
   "execution_count": null,
   "metadata": {},
   "outputs": [],
   "source": [
    "# using ravel to reshape to 1D array\n",
    "print(\"\\n8. using ravel to reshape to 1D array:\\n\")\n",
    "arr_ravel = arr0.ravel()\n",
    "print(\"arr_ravel:\", arr_ravel)\n",
    "print(\"arr_ravel shape:\", arr_ravel.shape)"
   ]
  },
  {
   "cell_type": "code",
   "execution_count": null,
   "metadata": {},
   "outputs": [],
   "source": [
    "# changing original array and checking the effect on flatten and ravel\n",
    "print(\"\\n9. changing original array and checking the effect on flatten and ravel:\\n\")\n",
    "# arr0 = arr0.reshape(-1,1), this won't make effects. because values are not changed\n",
    "arr0[0,0] = 100\n",
    "print(\"arr[0,0] changed to 100\\n\")\n",
    "print(\"arr_flat:\\n\", arr_flat) # just a copy of original array\n",
    "print(\"arr_ravel:\\n\", arr_ravel) # something like reference in C++, so it will change"
   ]
  },
  {
   "cell_type": "markdown",
   "metadata": {},
   "source": [
    "### 3.2 Splitting or concatenating the array "
   ]
  },
  {
   "cell_type": "markdown",
   "metadata": {},
   "source": [
    "#### 3.2.1 Split the array into 3 equal parts\n"
   ]
  },
  {
   "cell_type": "markdown",
   "metadata": {},
   "source": [
    "(a) Split the array into 3 equal parts"
   ]
  },
  {
   "cell_type": "code",
   "execution_count": null,
   "metadata": {},
   "outputs": [],
   "source": [
    "print(\"\\narr0:\\n\", arr0, \"shape: \", arr0.shape)\n",
    "arr_split = np.split(arr0, 3)\n",
    "print(\"\\narr_split:\\n\", arr_split)"
   ]
  },
  {
   "cell_type": "markdown",
   "metadata": {},
   "source": [
    "(b) But What exactly is arr_split?     (Do not use np.dtype(), use type(...)instead)"
   ]
  },
  {
   "cell_type": "code",
   "execution_count": null,
   "metadata": {},
   "outputs": [],
   "source": [
    "print(\"arr_split date type:\\n\", type(arr_split), \"\\n\")"
   ]
  },
  {
   "cell_type": "markdown",
   "metadata": {},
   "source": [
    "(c) Get the element in the arr_split list."
   ]
  },
  {
   "cell_type": "code",
   "execution_count": null,
   "metadata": {},
   "outputs": [],
   "source": [
    "print(\"\\narr_split[0]:\\n\", arr_split[0], \"shape:\", arr_split[0].shape)\n",
    "print(\"\\narr_split[1]:\\n\", arr_split[1], \"shape:\", arr_split[1].shape)\n",
    "print(\"\\narr_split[2]:\\n\", arr_split[2], \"shape:\", arr_split[2].shape)\n"
   ]
  },
  {
   "cell_type": "markdown",
   "metadata": {},
   "source": [
    "#### 3.2.2 Concatenate the array in different directions\n",
    "\n",
    ">The method is ```np.concatenate()```"
   ]
  },
  {
   "cell_type": "markdown",
   "metadata": {},
   "source": [
    "(a) Concatenate along rows: \n",
    "- ``np.concatenate((array1,array2,...),(axis=0))``"
   ]
  },
  {
   "cell_type": "code",
   "execution_count": null,
   "metadata": {},
   "outputs": [],
   "source": [
    "add_0 = np.array([[1,2,3,4,5,6],[7,8,9,10,11,12],[13,14,15,16,17,18]])\n",
    "print(\"The array to be concatenated:\\n\", arr_split[0], \"shape:\", arr_split[0].shape)\n",
    "print(\"Add_0\\n\",add_0,\"shape:\",add_0.shape)\n",
    "con_0 = np.concatenate((arr_split[0], add_0), axis=0)\n",
    "print(\"\\nConcatenate arr_split[0] along rows(axis=0):\\n\", con_0, \"shape:\", con_0.shape)"
   ]
  },
  {
   "cell_type": "markdown",
   "metadata": {},
   "source": [
    "(b) Concatenate along column:\n",
    "- `np.concatenate((array1,array2,...),(axis=1))`"
   ]
  },
  {
   "cell_type": "code",
   "execution_count": null,
   "metadata": {},
   "outputs": [],
   "source": [
    "add_1 = np.array([[1,2,3,4],[5,6,7,8]])\n",
    "print(\"the array to be concatenated:\\n\", arr_split[0])\n",
    "print(\"add_1\\n\",add_1,\"shape:\",add_1.shape)\n",
    "# concatenate along columns\n",
    "con_1=np.concatenate((arr_split[0], add_1), axis=1)\n",
    "print(\"\\n(1) concatenate arr_split[0] along columns(axis=1):\\n\",con_1, \"shape:\", con_1.shape)"
   ]
  },
  {
   "cell_type": "markdown",
   "metadata": {},
   "source": [
    "## 4.Indexing and Slicing arrays\n",
    "- Indexing syntax: `arr[[::],[::]]`\n",
    "- Slicing syntax `[start:stop:step]`\n",
    "### 4.1 Indexing\n",
    "- Indexing using `arr[i,j]`"
   ]
  },
  {
   "cell_type": "code",
   "execution_count": null,
   "metadata": {},
   "outputs": [],
   "source": [
    "# check up the arr0\n",
    "print(\"\\narr0:\\n\", arr0, \"shape:\", arr0.shape)\n",
    "# arr0(1,2) not possible because () indexing not possible for numpy array\n",
    "# print the element on the 2nd row and 3rd column\n",
    "print(\"\\nThe element on the 2nd row and 3rd column indexed by arr0[1,2]: \", arr0[1,2])"
   ]
  },
  {
   "cell_type": "markdown",
   "metadata": {},
   "source": [
    "- Indexing using `arr[i_0:i_1,j_0:j_1]` or `arr([i_0:i_1,j_0:j_1])`"
   ]
  },
  {
   "cell_type": "code",
   "execution_count": null,
   "metadata": {},
   "outputs": [],
   "source": [
    "# check up the arr0\n",
    "print(\"\\narr0:\\n\", arr0, \"shape:\", arr0.shape)\n",
    "\n",
    "# print the 2D array at row from 1 to 3 and column from 2 to 4\n",
    "print(\"\\n2D array at row from 1 to 3(included)\\nand column from 2 to 4(included):\\n\", arr0[0:3,1:4])\n",
    "print(\"Indexed by arr0[0:3,1:4]:\\n\")"
   ]
  },
  {
   "cell_type": "markdown",
   "metadata": {},
   "source": [
    "* <small>But how then? \\\n",
    "Why indexing \"from\" 1st row the index is `1-1=0`, while intending to include the range till 3rd row \"included\"--- the index is not `3-1=2`?\\\n",
    "Well it is about the \"slicing\" rule in python.\\\n",
    "Let us move on to the next section.</small> \n",
    "\n",
    "### 4.2 Slicing\n",
    "- Slicing using `[start:end]`"
   ]
  },
  {
   "cell_type": "code",
   "execution_count": null,
   "metadata": {},
   "outputs": [],
   "source": [
    "# let's first flatten the array arr0 to make it more intuitive\n",
    "arr0_flat = arr0.flatten()\n",
    "# check up the arr0_flat\n",
    "print(\"\\narr0_flat:\\n\", arr0_flat, \"shape:\", arr0_flat.shape)\n",
    "\n",
    "# print the 1D array from 2nd to 5th element\n",
    "print(\"\\n1D array from 2nd to 5th element:\\n\", arr0_flat[1:5])\n",
    "print(\"Indexed by arr0_flat[1:5]:\\n\")\n",
    "print(\"This is because the end element will not be included in the indexing, so index for 5th element is 5-1+1=0\")"
   ]
  },
  {
   "cell_type": "markdown",
   "metadata": {},
   "source": [
    "- Slicing using `[start:end:step]` where `step>0` "
   ]
  },
  {
   "cell_type": "code",
   "execution_count": null,
   "metadata": {},
   "outputs": [],
   "source": [
    "# check up the arr0_flat\n",
    "print(\"\\narr0_flat:\\n\", arr0_flat, \"shape:\", arr0_flat.shape)\n",
    "\n",
    "# get the value from 2 to 10, step 2\n",
    "print(\"\\nValue from 2 to 10, step 2:\\n\", arr0_flat[1:10:2])\n",
    "print(\"Indexed by arr0_flat[1:10:2]:\\n\")\n",
    "\n",
    "# print what is indexed by arr0_flat[10:1:2]\n",
    "print(\"\\nValue from 10 to 1, step 2:\\n\", arr0_flat[10:1:2])\n",
    "print(\"Indexed by arr0_flat[10:1:2]:\\n\")\n",
    "print(\"This is because the start index is greater than the end index, \\\n",
    "      \\nbut the step 2 is positive, so stepping forward returns empty array\")"
   ]
  },
  {
   "cell_type": "markdown",
   "metadata": {},
   "source": [
    "- Slicing using `[start:end:step]` where `step<0` \n",
    "    - Common usage:`[::-1]`"
   ]
  },
  {
   "cell_type": "code",
   "execution_count": null,
   "metadata": {},
   "outputs": [],
   "source": [
    "# check up the arr0_flat\n",
    "print(\"\\narr0_flat:\\n\", arr0_flat, \"shape:\", arr0_flat.shape)\n",
    "# print the reversed array\n",
    "print(\"\\nReversed array:\\n\", arr0_flat[::-1], \"Indexed by arr0_flat[::-1]:\\n\")\n",
    "\n",
    "# print the reversed array from 20 to 8(included), step -2\n",
    "print(\"\\nReversed array from 20 to 8(included), step -2:\\n\", arr0_flat[19:6:-2], \"Indexed by arr0_flat[19:6:-2]:\\n\")\n",
    "print(\"The eighth element is index by 7, \\nbut the end element won't be reached by indexing it, so the end index is 7-1=6\")"
   ]
  },
  {
   "cell_type": "markdown",
   "metadata": {},
   "source": [
    "### 4.3 Combined Indexing and Slicing"
   ]
  },
  {
   "cell_type": "code",
   "execution_count": null,
   "metadata": {},
   "outputs": [],
   "source": [
    "# reinitialize the arr0 to 10x10\n",
    "arr0 = np.arange(100).reshape(10,10)\n",
    "\n",
    "# check the arr0\n",
    "print(\"\\narr0:\\n\", arr0, \"shape:\", arr0.shape)\n",
    "\n",
    "# print the 2D array from 2nd row to 7th row and 3rd column to 10th column\n",
    "print(\"\\n2D array from 2nd row to 7th row and 3rd column to 10th column:\\n\",\\\n",
    "    arr0[1:7,2:10], \"Indexed by arr0[1:7,2:10]:\\n\")\n",
    "\n",
    "# print the 2D array from 2nd row to 7th row and 3rd column to 10th column, step 3 at row, and step 2 at column\n",
    "print(\"\\n2D array from 2nd row to 7th row and 3rd column to 10th column, step 3 at row, and step 2 at column:\\n\",\\\n",
    "    arr0[1:7:3,2:10:2], \"Indexed by arr0[1:7:3,2:10:2]:\\n\")\n",
    "\n"
   ]
  },
  {
   "cell_type": "code",
   "execution_count": null,
   "metadata": {},
   "outputs": [],
   "source": [
    "# print the 2D array from 2nd row to 7th row and 3rd column to 10th column\n",
    "print(\"\\n2D array from 2nd row to 7th row and 3rd column to 10th column:\\n\",\\\n",
    "    arr0[1:7,2:10], \"Indexed by arr0[1:7,2:10]:\\n\")\n",
    "\n",
    "# print the 2D array from 7th row to 2th row and 10rd column to 3th column\n",
    "print(\"\\n2D array from 7th row to 2nd row and 10th column to 3rd column(reverse):\\n\",\\\n",
    "    arr0[6:0:-1,9:1:-1], \"Indexed by arr0[6:1:-1,9:2:-1]:\\n\")\n",
    "\n",
    "# print the 2D array from 7th row to 2th row and 10rd column to 3th column, step -3 at row, and step -2 at column\n",
    "print(\"\\n2D array from 7th row to 2nd row and 10th column to 3rd column, step -3 at row, and step -2 at column:\\n\",\\\n",
    "    arr0[6:0:-3,9:1:-2], \"Indexed by arr0[6:1:-3,9:2:-2]:\\n\")"
   ]
  }
 ],
 "metadata": {
  "kernelspec": {
   "display_name": "i2dl",
   "language": "python",
   "name": "python3"
  },
  "language_info": {
   "codemirror_mode": {
    "name": "ipython",
    "version": 3
   },
   "file_extension": ".py",
   "mimetype": "text/x-python",
   "name": "python",
   "nbconvert_exporter": "python",
   "pygments_lexer": "ipython3",
   "version": "3.11.9"
  }
 },
 "nbformat": 4,
 "nbformat_minor": 2
}
