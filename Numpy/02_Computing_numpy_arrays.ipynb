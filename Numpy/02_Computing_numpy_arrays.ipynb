{
 "cells": [
  {
   "cell_type": "markdown",
   "metadata": {},
   "source": [
    "# Array Math"
   ]
  },
  {
   "cell_type": "code",
   "execution_count": null,
   "metadata": {},
   "outputs": [],
   "source": [
    "import numpy as np"
   ]
  },
  {
   "cell_type": "markdown",
   "metadata": {},
   "source": [
    "## 1. Basics\n",
    "### 1.1 Manipulation on elements\n",
    "#### 1.1.1 Modification at some certain location"
   ]
  },
  {
   "cell_type": "code",
   "execution_count": null,
   "metadata": {},
   "outputs": [],
   "source": [
    "# Initialize an array(matrices)\n",
    "A = np.arange(15).reshape(3, 5)\n",
    "print(\"the array is A = np.arange(15).\\\n",
    "    reshape(3, 5): \\n\", A, \"shape: \", A.shape)\n",
    "\n",
    "# Modify the array at row i and column j\n",
    "A[1, 3] = 100\n",
    "print(\"\\nthe modified array at [1,3] is 100: \\n\", A, \"shape: \", A.shape)\n",
    "\n",
    "# Modify the array at row i\n",
    "A[1, :] = ([1, 2, 3, 4, 5])\n",
    "print(\"\\nthe modified array at row 1 is [1,2,3,4,5]: \\n\", A, \"shape: \", A.shape)\n",
    "\n",
    "# Modify at region [i:k, j:l]\n",
    "A[1:3, 2:5] = 0\n",
    "print(\"\\nthe modified array at region [1:3, 2:5] is 0: \\n\", A, \"shape: \", A.shape)\n"
   ]
  },
  {
   "cell_type": "markdown",
   "metadata": {},
   "source": [
    "#### 1.1.2 Add or Substract"
   ]
  },
  {
   "cell_type": "code",
   "execution_count": null,
   "metadata": {},
   "outputs": [],
   "source": [
    "print(\"A: \\n\", A)\n",
    "# Add 1 to each element of the array\n",
    "A = A + 1\n",
    "print(\"\\nA = A + 1: \\n\", A)\n",
    "A = np.add(A, 1)\n",
    "print(\"\\nA = np.add(A, 1): \\n\", A)\n",
    "print(\"A+1 is equivalent to np.add(A, 1)\")\n",
    "\n",
    "# Subtract 1 from each element of the array\n",
    "A = A - 1\n",
    "print(\"\\nA = A - 1: \\n\", A)\n",
    "A = np.subtract(A, 1)\n",
    "print(\"\\nA = np.subtract(A, 1): \\n\", A)\n",
    "print(\"A-1 is equivalent to np.subtract(A, 1)\")"
   ]
  },
  {
   "cell_type": "markdown",
   "metadata": {},
   "source": [
    "#### 1.1.3 Multiply, Divide, Power and Square-root"
   ]
  },
  {
   "cell_type": "code",
   "execution_count": null,
   "metadata": {},
   "outputs": [],
   "source": [
    "# Reinitalize the array\n",
    "A = np.arange(15).reshape(3, 5)\n",
    "print(\"\\nA: \\n\", A)\n",
    "# Multiply each element of the array by 2\n",
    "A = A * 2\n",
    "print(\"\\nA = A * 2: \\n\", A)\n",
    "A = (np.multiply(A, 2)).astype(int)\n",
    "print(\"\\nA = np.multiply(A, 2): \\n\", A)\n",
    "print(\"A*2 is equivalent to np.multiply(A, 2)\")\n",
    "\n",
    "# Divide each element of the array by 2\n",
    "A = A / 2\n",
    "print(\"\\nA = A / 2: \\n\", A)\n",
    "A = (np.divide(A, 2))\n",
    "print(\"\\nA = np.divide(A, 2): \\n\", A)\n",
    "print(\"A/2 is equivalent to np.divide(A, 2)\")"
   ]
  },
  {
   "cell_type": "markdown",
   "metadata": {},
   "source": [
    "#### 1.1.4 Power and Square-root"
   ]
  },
  {
   "cell_type": "code",
   "execution_count": null,
   "metadata": {},
   "outputs": [],
   "source": [
    "# Reinitalize the array\n",
    "A = np.arange(15).reshape(3, 5)\n",
    "print(\"A: \\n\", A)\n",
    "# Power each element of the array by 2\n",
    "A = A ** 2\n",
    "print(\"\\nA = A ** 2: \\n\", A)\n",
    "A = np.power(A, 2).astype(int)\n",
    "print(\"\\nA = np.power(A, 2).astype(int): \\n\", A)\n",
    "print(\"A**2 is equivalent to np.power(A, 2)\")\n",
    "\n",
    "# Square root of each element of the array\n",
    "A = A ** 0.5\n",
    "print(\"\\nA = A ** 0.5: \\n\", A)\n",
    "A = np.sqrt(A)\n",
    "print(\"\\nA = np.sqrt(A): \\n\", A)\n",
    "print(\"A**0.5 is equivalent to np.sqrt(A)\")"
   ]
  },
  {
   "cell_type": "markdown",
   "metadata": {},
   "source": [
    "#### 1.1.5 Floor, Ceil and Round"
   ]
  },
  {
   "cell_type": "code",
   "execution_count": null,
   "metadata": {},
   "outputs": [],
   "source": [
    "# Reinitalize the array randomly with float numbers 3x5\n",
    "A = np.random.rand(3, 5)\n",
    "print(\"\\nA: \\n\", A)\n",
    "\n",
    "# Round each element of the array\n",
    "print(\"\\nA = np.round(A): \\n\", np.round(A))\n",
    "# Ceil each element of the array\n",
    "print(\"\\nA = np.ceil(A): \\n\", np.ceil(A))\n",
    "# Floor each element of the array\n",
    "print(\"\\nA = np.floor(A): \\n\", np.floor(A))\n"
   ]
  },
  {
   "cell_type": "markdown",
   "metadata": {},
   "source": [
    "- Special"
   ]
  },
  {
   "cell_type": "code",
   "execution_count": null,
   "metadata": {},
   "outputs": [],
   "source": [
    "# Reinitalize the array\n",
    "A = np.arange(15).reshape(3, 5)\n",
    "print(\"A: \\n\", A)\n",
    "# Absolute value of each element of the array\n",
    "print(\"\\nA = np.abs(A): \\n\", np.abs(A))\n",
    "# Sine of each element of the array\n",
    "print(\"\\nA = np.sin(A):\\n(cos and tan is als\\\n",
    "      o available) \\n\", np.sin(A))\n",
    "# Exponential of each element of the array\n",
    "print(\"\\nA = np.exp(A): \\n\", np.exp(A))\n",
    "# Natural logarithm of each element of the array\n",
    "print(\"\\nA = np.log(A): \\n\", np.log(A))"
   ]
  },
  {
   "cell_type": "markdown",
   "metadata": {},
   "source": [
    "### 1.2 Statistics on Array\n",
    "#### 1.2.1 Mean and Sum"
   ]
  },
  {
   "cell_type": "code",
   "execution_count": null,
   "metadata": {},
   "outputs": [],
   "source": [
    "# Reinitalize the array\n",
    "A = np.arange(15).reshape(3, 5)\n",
    "print(\"A: \\n\", A)\n",
    "# Sum of all elements of the array\n",
    "print(\"\\nnp.sum(A): \\n\", np.sum(A))\n",
    "# Sum of all elements of the array along the column\n",
    "print(\"\\nnp.sum(A, axis=0): \\n\", np.sum(A, axis=0))\n",
    "\n",
    "# Mean of all elements of the array\n",
    "print(\"\\nnp.mean(A): \\n\", np.mean(A))\n",
    "# Mean of all elements of the array along the row\n",
    "print(\"\\nnp.mean(A, axis=1): \\n\", np.mean(A, axis=1))"
   ]
  },
  {
   "cell_type": "markdown",
   "metadata": {},
   "source": [
    "#### 1.2.2 Sorting"
   ]
  },
  {
   "cell_type": "code",
   "execution_count": null,
   "metadata": {},
   "outputs": [],
   "source": [
    "# Reinitalize the array\n",
    "A = np.random.randint(20, size=(3, 5))\n",
    "print(\"A: \\n\", A)\n",
    "\n",
    "# Sort the array\n",
    "print(\"\\nnp.sort(A): \\n\", np.sort(A))\n",
    "print(\"\\nnp.sort(A, axis=1): \\n\", np.sort(A, axis=1))\n",
    "print(\"\\nthe default is sorting the last axis\\n\\\n",
    "    , which is axis=1. It sorts column while row does not change\")\n",
    "\n",
    "# While in C++ we can std::sort with a functor, but python does not support it"
   ]
  },
  {
   "cell_type": "markdown",
   "metadata": {},
   "source": [
    "#### 1.2.3 Min and Max"
   ]
  },
  {
   "cell_type": "code",
   "execution_count": null,
   "metadata": {},
   "outputs": [],
   "source": [
    "# Reinitalize the array\n",
    "A = np.arange(15).reshape(3, 5)\n",
    "print(\"A: \\n\", A)\n",
    "\n",
    "# Minimum of all elements of the array\n",
    "print(\"\\nnp.min(A): \\n\", np.min(A))\n",
    "# Minimum of all elements of the array along the row\n",
    "print(\"\\nnp.min(A, axis=1): \\n\", np.min(A, axis=1))\n",
    "\n",
    "# Maximum of all elements of the array\n",
    "print(\"\\nnp.max(A): \\n\", np.max(A))\n",
    "# Maximum of all elements of the array along the column\n",
    "print(\"\\nnp.max(A, axis=0): \\n\", np.max(A, axis=0))"
   ]
  },
  {
   "cell_type": "markdown",
   "metadata": {},
   "source": [
    "#### 1.2.4 Variance, Covariance, Standard Deviation"
   ]
  },
  {
   "cell_type": "code",
   "execution_count": null,
   "metadata": {},
   "outputs": [],
   "source": [
    "# Reinitalize the array\n",
    "A = (np.random.rand(3,5)*100).astype(int)\n",
    "print(\"A: \\n\", A)\n",
    "\n",
    "# Variance of all elements of the array\n",
    "print(\"\\nnp.var(A): \\n\", np.var(A))\n",
    "# Variance of all elements of the array along the row\n",
    "print(\"\\nnp.var(A, axis=1): \\n\", np.var(A, axis=1))\n",
    "\n",
    "# Standard deviation of all elements of the array\n",
    "print(\"\\nnp.std(A): \\n\", np.std(A))\n",
    "# Standard deviation of all elements of the array along the column\n",
    "print(\"\\nnp.std(A, axis=0): \\n\", np.std(A, axis=0))\n",
    "\n",
    "# Correlation coefficient of all elements of the array\n",
    "print(\"\\nnp.corrcoef(A): \\n\", np.corrcoef(A))\n"
   ]
  },
  {
   "cell_type": "markdown",
   "metadata": {},
   "source": [
    "## 2. Linear Algebra\n",
    "### 2.1 Elementwise manipulations\n",
    "#### 2.2.1 Addition and Subatraction"
   ]
  },
  {
   "cell_type": "code",
   "execution_count": 25,
   "metadata": {},
   "outputs": [
    {
     "name": "stdout",
     "output_type": "stream",
     "text": [
      "A: \n",
      " [[7 4 8 1 3]\n",
      " [4 1 6 6 3]\n",
      " [6 8 4 5 8]] \n",
      "B: \n",
      " [[5 7 7 0 5]\n",
      " [6 8 6 0 2]\n",
      " [5 5 4 2 5]]\n",
      "\n",
      "A + B: \n",
      " [[12 11 15  1  8]\n",
      " [10  9 12  6  5]\n",
      " [11 13  8  7 13]]\n",
      "\n",
      "Is it' equivalent to 'np.add(A, B)'? \n",
      " True ----Returned by 'np.array_equal(A + B, np.add(A, B))'\n",
      "\n",
      "A - B: \n",
      " [[ 2 -3  1  1 -2]\n",
      " [-2 -7  0  6  1]\n",
      " [ 1  3  0  3  3]]\n",
      "\n",
      "Is it equivalent to 'np.subtract(A, B)'? \n",
      " True ----Returned by 'np.array_equal(A - B, np.subtract(A, B))'\n"
     ]
    }
   ],
   "source": [
    "# Initialize two arrays (matrices)\n",
    "A = np.random.randint(10, size=(3, 5))\n",
    "B = np.random.randint(10, size=(3, 5))\n",
    "\n",
    "print(\"A: \\n\", A, \"\\nB: \\n\", B)\n",
    "\n",
    "# Element-wise addition of two arrays\n",
    "print(\"\\nA + B: \\n\", A + B)\n",
    "print(\"\\nIs it' equivalent to 'np.add(A, B)'? \\n\", \\\n",
    "    np.array_equal(A + B, np.add(A, B)),\\\n",
    "        \"----Returned by 'np.array_equal(A + B, np.add(A, B))'\")\n",
    "\n",
    "# Element-wise subtraction of two arrays\n",
    "print(\"\\nA - B: \\n\", A - B)\n",
    "print(\"\\nIs it equivalent to 'np.subtract(A, B)'? \\n\", \\\n",
    "    np.array_equal(A - B, np.subtract(A, B)),\\\n",
    "        \"----Returned by 'np.array_equal(A - B, np.subtract(A, B))'\")\n"
   ]
  },
  {
   "cell_type": "markdown",
   "metadata": {},
   "source": [
    "#### 2.2.2 Multiplication and Division"
   ]
  },
  {
   "cell_type": "code",
   "execution_count": 26,
   "metadata": {},
   "outputs": [
    {
     "name": "stdout",
     "output_type": "stream",
     "text": [
      "A: \n",
      " [[8 8 4 2 7]\n",
      " [5 9 7 9 4]\n",
      " [1 2 3 7 4]] \n",
      "B: \n",
      " [[5 4 2 4 1]\n",
      " [2 8 5 4 9]\n",
      " [1 8 8 9 1]]\n",
      "\n",
      "A * B: \n",
      " [[40 32  8  8  7]\n",
      " [10 72 35 36 36]\n",
      " [ 1 16 24 63  4]]\n",
      "\n",
      "Is it equivalent to 'np.multiply(A, B)'? \n",
      " True ----Returned by 'np.array_equal(A * B, np.multiply(A, B))'\n",
      "\n",
      "A / B: \n",
      " [[1.6        2.         2.         0.5        7.        ]\n",
      " [2.5        1.125      1.4        2.25       0.44444444]\n",
      " [1.         0.25       0.375      0.77777778 4.        ]]\n",
      "\n",
      "Is it equivalent to 'np.divide(A, B)'? \n",
      " True ----Returned by 'np.array_equal(A / B, np.divide(A, B))'\n"
     ]
    }
   ],
   "source": [
    "# Reinitialize two arrays (matrices)\n",
    "A = np.random.randint(10, size=(3, 5))\n",
    "B = np.random.randint(10, size=(3, 5))\n",
    "\n",
    "print(\"A: \\n\", A, \"\\nB: \\n\", B)\n",
    "\n",
    "# Elementwise multiplication of two arrays\n",
    "print(\"\\nA * B: \\n\", A * B)\n",
    "print(\"\\nIs it equivalent to 'np.multiply(A, B)'? \\n\", \\\n",
    "    np.array_equal(A * B, np.multiply(A, B)),\\\n",
    "        \"----Returned by 'np.array_equal(A * B, np.multiply(A, B))'\")\n",
    "\n",
    "# Elementwise division of two arrays\n",
    "print(\"\\nA / B: \\n\", A / B)\n",
    "print(\"\\nIs it equivalent to 'np.divide(A, B)'? \\n\", \\\n",
    "    np.array_equal(A / B, np.divide(A, B)),\\\n",
    "        \"----Returned by 'np.array_equal(A / B, np.divide(A, B))'\")"
   ]
  },
  {
   "cell_type": "markdown",
   "metadata": {},
   "source": [
    "#### 2.2.3 Elementwise Power"
   ]
  },
  {
   "cell_type": "code",
   "execution_count": null,
   "metadata": {},
   "outputs": [],
   "source": [
    "# Reinitialize two arrays (matrices)"
   ]
  }
 ],
 "metadata": {
  "kernelspec": {
   "display_name": "i2dl",
   "language": "python",
   "name": "python3"
  },
  "language_info": {
   "codemirror_mode": {
    "name": "ipython",
    "version": 3
   },
   "file_extension": ".py",
   "mimetype": "text/x-python",
   "name": "python",
   "nbconvert_exporter": "python",
   "pygments_lexer": "ipython3",
   "version": "3.11.9"
  }
 },
 "nbformat": 4,
 "nbformat_minor": 2
}
