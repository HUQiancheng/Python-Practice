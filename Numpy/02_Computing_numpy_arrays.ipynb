{
 "cells": [
  {
   "cell_type": "markdown",
   "metadata": {},
   "source": [
    "# Array Math"
   ]
  },
  {
   "cell_type": "code",
   "execution_count": 1,
   "metadata": {},
   "outputs": [],
   "source": [
    "import numpy as np"
   ]
  },
  {
   "cell_type": "markdown",
   "metadata": {},
   "source": [
    "## 1. Basics\n",
    "### 1.1 Manipulation on elements\n",
    "#### 1.1.1 Modification at some certain location"
   ]
  },
  {
   "cell_type": "code",
   "execution_count": 2,
   "metadata": {},
   "outputs": [
    {
     "name": "stdout",
     "output_type": "stream",
     "text": [
      "the array is A = np.arange(15).    reshape(3, 5): \n",
      " [[ 0  1  2  3  4]\n",
      " [ 5  6  7  8  9]\n",
      " [10 11 12 13 14]] shape:  (3, 5)\n",
      "\n",
      "the modified array at [1,3] is 100: \n",
      " [[  0   1   2   3   4]\n",
      " [  5   6   7 100   9]\n",
      " [ 10  11  12  13  14]] shape:  (3, 5)\n",
      "\n",
      "the modified array at row 1 is [1,2,3,4,5]: \n",
      " [[ 0  1  2  3  4]\n",
      " [ 1  2  3  4  5]\n",
      " [10 11 12 13 14]] shape:  (3, 5)\n",
      "\n",
      "the modified array at region [1:3, 2:5] is 0: \n",
      " [[ 0  1  2  3  4]\n",
      " [ 1  2  0  0  0]\n",
      " [10 11  0  0  0]] shape:  (3, 5)\n"
     ]
    }
   ],
   "source": [
    "# Initialize an array(matrices)\n",
    "A = np.arange(15).reshape(3, 5)\n",
    "print(\"the array is A = np.arange(15).\\\n",
    "    reshape(3, 5): \\n\", A, \"shape: \", A.shape)\n",
    "\n",
    "# Modify the array at row i and column j\n",
    "A[1, 3] = 100\n",
    "print(\"\\nthe modified array at [1,3] is 100: \\n\", A, \"shape: \", A.shape)\n",
    "\n",
    "# Modify the array at row i\n",
    "A[1, :] = ([1, 2, 3, 4, 5])\n",
    "print(\"\\nthe modified array at row 1 is [1,2,3,4,5]: \\n\", A, \"shape: \", A.shape)\n",
    "\n",
    "# Modify at region [i:k, j:l]\n",
    "A[1:3, 2:5] = 0\n",
    "print(\"\\nthe modified array at region [1:3, 2:5] is 0: \\n\", A, \"shape: \", A.shape)\n"
   ]
  },
  {
   "cell_type": "markdown",
   "metadata": {},
   "source": [
    "#### 1.1.2 Add or Substract"
   ]
  },
  {
   "cell_type": "code",
   "execution_count": 3,
   "metadata": {},
   "outputs": [
    {
     "name": "stdout",
     "output_type": "stream",
     "text": [
      "A: \n",
      " [[ 0  1  2  3  4]\n",
      " [ 1  2  0  0  0]\n",
      " [10 11  0  0  0]]\n",
      "\n",
      "A = A + 1: \n",
      " [[ 1  2  3  4  5]\n",
      " [ 2  3  1  1  1]\n",
      " [11 12  1  1  1]]\n",
      "\n",
      "A = np.add(A, 1): \n",
      " [[ 2  3  4  5  6]\n",
      " [ 3  4  2  2  2]\n",
      " [12 13  2  2  2]]\n",
      "A+1 is equivalent to np.add(A, 1)\n",
      "\n",
      "A = A - 1: \n",
      " [[ 1  2  3  4  5]\n",
      " [ 2  3  1  1  1]\n",
      " [11 12  1  1  1]]\n",
      "\n",
      "A = np.subtract(A, 1): \n",
      " [[ 0  1  2  3  4]\n",
      " [ 1  2  0  0  0]\n",
      " [10 11  0  0  0]]\n",
      "A-1 is equivalent to np.subtract(A, 1)\n"
     ]
    }
   ],
   "source": [
    "print(\"A: \\n\", A)\n",
    "# Add 1 to each element of the array\n",
    "A = A + 1\n",
    "print(\"\\nA = A + 1: \\n\", A)\n",
    "A = np.add(A, 1)\n",
    "print(\"\\nA = np.add(A, 1): \\n\", A)\n",
    "print(\"A+1 is equivalent to np.add(A, 1)\")\n",
    "\n",
    "# Subtract 1 from each element of the array\n",
    "A = A - 1\n",
    "print(\"\\nA = A - 1: \\n\", A)\n",
    "A = np.subtract(A, 1)\n",
    "print(\"\\nA = np.subtract(A, 1): \\n\", A)\n",
    "print(\"A-1 is equivalent to np.subtract(A, 1)\")"
   ]
  },
  {
   "cell_type": "markdown",
   "metadata": {},
   "source": [
    "#### 1.1.3 Multiply, Divide, Power and Square-root"
   ]
  },
  {
   "cell_type": "code",
   "execution_count": 4,
   "metadata": {},
   "outputs": [
    {
     "name": "stdout",
     "output_type": "stream",
     "text": [
      "\n",
      "A: \n",
      " [[ 0  1  2  3  4]\n",
      " [ 5  6  7  8  9]\n",
      " [10 11 12 13 14]]\n",
      "\n",
      "A = A * 2: \n",
      " [[ 0  2  4  6  8]\n",
      " [10 12 14 16 18]\n",
      " [20 22 24 26 28]]\n",
      "\n",
      "A = np.multiply(A, 2): \n",
      " [[ 0  4  8 12 16]\n",
      " [20 24 28 32 36]\n",
      " [40 44 48 52 56]]\n",
      "A*2 is equivalent to np.multiply(A, 2)\n",
      "\n",
      "A = A / 2: \n",
      " [[ 0.  2.  4.  6.  8.]\n",
      " [10. 12. 14. 16. 18.]\n",
      " [20. 22. 24. 26. 28.]]\n",
      "\n",
      "A = np.divide(A, 2): \n",
      " [[ 0.  1.  2.  3.  4.]\n",
      " [ 5.  6.  7.  8.  9.]\n",
      " [10. 11. 12. 13. 14.]]\n",
      "A/2 is equivalent to np.divide(A, 2)\n"
     ]
    }
   ],
   "source": [
    "# Reinitalize the array\n",
    "A = np.arange(15).reshape(3, 5)\n",
    "print(\"\\nA: \\n\", A)\n",
    "# Multiply each element of the array by 2\n",
    "A = A * 2\n",
    "print(\"\\nA = A * 2: \\n\", A)\n",
    "A = (np.multiply(A, 2)).astype(int)\n",
    "print(\"\\nA = np.multiply(A, 2): \\n\", A)\n",
    "print(\"A*2 is equivalent to np.multiply(A, 2)\")\n",
    "\n",
    "# Divide each element of the array by 2\n",
    "A = A / 2\n",
    "print(\"\\nA = A / 2: \\n\", A)\n",
    "A = (np.divide(A, 2))\n",
    "print(\"\\nA = np.divide(A, 2): \\n\", A)\n",
    "print(\"A/2 is equivalent to np.divide(A, 2)\")"
   ]
  },
  {
   "cell_type": "markdown",
   "metadata": {},
   "source": [
    "#### 1.1.4 Power and Square-root"
   ]
  },
  {
   "cell_type": "code",
   "execution_count": 5,
   "metadata": {},
   "outputs": [
    {
     "name": "stdout",
     "output_type": "stream",
     "text": [
      "A: \n",
      " [[ 0  1  2  3  4]\n",
      " [ 5  6  7  8  9]\n",
      " [10 11 12 13 14]]\n",
      "\n",
      "A = A ** 2: \n",
      " [[  0   1   4   9  16]\n",
      " [ 25  36  49  64  81]\n",
      " [100 121 144 169 196]]\n",
      "\n",
      "A = np.power(A, 2).astype(int): \n",
      " [[    0     1    16    81   256]\n",
      " [  625  1296  2401  4096  6561]\n",
      " [10000 14641 20736 28561 38416]]\n",
      "A**2 is equivalent to np.power(A, 2)\n",
      "\n",
      "A = A ** 0.5: \n",
      " [[  0.   1.   4.   9.  16.]\n",
      " [ 25.  36.  49.  64.  81.]\n",
      " [100. 121. 144. 169. 196.]]\n",
      "\n",
      "A = np.sqrt(A): \n",
      " [[ 0.  1.  2.  3.  4.]\n",
      " [ 5.  6.  7.  8.  9.]\n",
      " [10. 11. 12. 13. 14.]]\n",
      "A**0.5 is equivalent to np.sqrt(A)\n"
     ]
    }
   ],
   "source": [
    "# Reinitalize the array\n",
    "A = np.arange(15).reshape(3, 5)\n",
    "print(\"A: \\n\", A)\n",
    "# Power each element of the array by 2\n",
    "A = A ** 2\n",
    "print(\"\\nA = A ** 2: \\n\", A)\n",
    "A = np.power(A, 2).astype(int)\n",
    "print(\"\\nA = np.power(A, 2).astype(int): \\n\", A)\n",
    "print(\"A**2 is equivalent to np.power(A, 2)\")\n",
    "\n",
    "# Square root of each element of the array\n",
    "A = A ** 0.5\n",
    "print(\"\\nA = A ** 0.5: \\n\", A)\n",
    "A = np.sqrt(A)\n",
    "print(\"\\nA = np.sqrt(A): \\n\", A)\n",
    "print(\"A**0.5 is equivalent to np.sqrt(A)\")"
   ]
  },
  {
   "cell_type": "markdown",
   "metadata": {},
   "source": [
    "#### 1.1.5 Floor, Ceil and Round"
   ]
  },
  {
   "cell_type": "code",
   "execution_count": 6,
   "metadata": {},
   "outputs": [
    {
     "name": "stdout",
     "output_type": "stream",
     "text": [
      "\n",
      "A: \n",
      " [[0.82060563 0.95205604 0.70804795 0.27019154 0.86925324]\n",
      " [0.50085383 0.47686858 0.6538168  0.48234532 0.82297247]\n",
      " [0.29978751 0.99810856 0.83644711 0.57411158 0.05527486]]\n",
      "\n",
      "A = np.round(A): \n",
      " [[1. 1. 1. 0. 1.]\n",
      " [1. 0. 1. 0. 1.]\n",
      " [0. 1. 1. 1. 0.]]\n",
      "\n",
      "A = np.ceil(A): \n",
      " [[1. 1. 1. 1. 1.]\n",
      " [1. 1. 1. 1. 1.]\n",
      " [1. 1. 1. 1. 1.]]\n",
      "\n",
      "A = np.floor(A): \n",
      " [[0. 0. 0. 0. 0.]\n",
      " [0. 0. 0. 0. 0.]\n",
      " [0. 0. 0. 0. 0.]]\n"
     ]
    }
   ],
   "source": [
    "# Reinitalize the array randomly with float numbers 3x5\n",
    "A = np.random.rand(3, 5)\n",
    "print(\"\\nA: \\n\", A)\n",
    "\n",
    "# Round each element of the array\n",
    "print(\"\\nA = np.round(A): \\n\", np.round(A))\n",
    "# Ceil each element of the array\n",
    "print(\"\\nA = np.ceil(A): \\n\", np.ceil(A))\n",
    "# Floor each element of the array\n",
    "print(\"\\nA = np.floor(A): \\n\", np.floor(A))\n"
   ]
  },
  {
   "cell_type": "markdown",
   "metadata": {},
   "source": [
    "- Special"
   ]
  },
  {
   "cell_type": "code",
   "execution_count": 7,
   "metadata": {},
   "outputs": [
    {
     "name": "stdout",
     "output_type": "stream",
     "text": [
      "A: \n",
      " [[ 0  1  2  3  4]\n",
      " [ 5  6  7  8  9]\n",
      " [10 11 12 13 14]]\n",
      "\n",
      "A = np.abs(A): \n",
      " [[ 0  1  2  3  4]\n",
      " [ 5  6  7  8  9]\n",
      " [10 11 12 13 14]]\n",
      "\n",
      "A = np.sin(A):\n",
      "(cos and tan is als      o available) \n",
      " [[ 0.          0.84147098  0.90929743  0.14112001 -0.7568025 ]\n",
      " [-0.95892427 -0.2794155   0.6569866   0.98935825  0.41211849]\n",
      " [-0.54402111 -0.99999021 -0.53657292  0.42016704  0.99060736]]\n",
      "\n",
      "A = np.exp(A): \n",
      " [[1.00000000e+00 2.71828183e+00 7.38905610e+00 2.00855369e+01\n",
      "  5.45981500e+01]\n",
      " [1.48413159e+02 4.03428793e+02 1.09663316e+03 2.98095799e+03\n",
      "  8.10308393e+03]\n",
      " [2.20264658e+04 5.98741417e+04 1.62754791e+05 4.42413392e+05\n",
      "  1.20260428e+06]]\n",
      "\n",
      "A = np.log(A): \n",
      " [[      -inf 0.         0.69314718 1.09861229 1.38629436]\n",
      " [1.60943791 1.79175947 1.94591015 2.07944154 2.19722458]\n",
      " [2.30258509 2.39789527 2.48490665 2.56494936 2.63905733]]\n"
     ]
    },
    {
     "name": "stderr",
     "output_type": "stream",
     "text": [
      "C:\\Users\\24707\\AppData\\Local\\Temp\\ipykernel_26028\\1749042973.py:12: RuntimeWarning: divide by zero encountered in log\n",
      "  print(\"\\nA = np.log(A): \\n\", np.log(A))\n"
     ]
    }
   ],
   "source": [
    "# Reinitalize the array\n",
    "A = np.arange(15).reshape(3, 5)\n",
    "print(\"A: \\n\", A)\n",
    "# Absolute value of each element of the array\n",
    "print(\"\\nA = np.abs(A): \\n\", np.abs(A))\n",
    "# Sine of each element of the array\n",
    "print(\"\\nA = np.sin(A):\\n(cos and tan is als\\\n",
    "      o available) \\n\", np.sin(A))\n",
    "# Exponential of each element of the array\n",
    "print(\"\\nA = np.exp(A): \\n\", np.exp(A))\n",
    "# Natural logarithm of each element of the array\n",
    "print(\"\\nA = np.log(A): \\n\", np.log(A))"
   ]
  },
  {
   "cell_type": "markdown",
   "metadata": {},
   "source": [
    "### 1.2 Statistics on Array\n",
    "#### 1.2.1 Mean and Sum"
   ]
  },
  {
   "cell_type": "code",
   "execution_count": 8,
   "metadata": {},
   "outputs": [
    {
     "name": "stdout",
     "output_type": "stream",
     "text": [
      "A: \n",
      " [[ 0  1  2  3  4]\n",
      " [ 5  6  7  8  9]\n",
      " [10 11 12 13 14]]\n",
      "\n",
      "np.sum(A): \n",
      " 105\n",
      "\n",
      "np.sum(A, axis=0): \n",
      " [15 18 21 24 27]\n",
      "\n",
      "np.mean(A): \n",
      " 7.0\n",
      "\n",
      "np.mean(A, axis=1): \n",
      " [ 2.  7. 12.]\n"
     ]
    }
   ],
   "source": [
    "# Reinitalize the array\n",
    "A = np.arange(15).reshape(3, 5)\n",
    "print(\"A: \\n\", A)\n",
    "# Sum of all elements of the array\n",
    "print(\"\\nnp.sum(A): \\n\", np.sum(A))\n",
    "# Sum of all elements of the array along the column\n",
    "print(\"\\nnp.sum(A, axis=0): \\n\", np.sum(A, axis=0))\n",
    "\n",
    "# Mean of all elements of the array\n",
    "print(\"\\nnp.mean(A): \\n\", np.mean(A))\n",
    "# Mean of all elements of the array along the row\n",
    "print(\"\\nnp.mean(A, axis=1): \\n\", np.mean(A, axis=1))"
   ]
  },
  {
   "cell_type": "markdown",
   "metadata": {},
   "source": [
    "#### 1.2.2 Sorting"
   ]
  },
  {
   "cell_type": "code",
   "execution_count": 9,
   "metadata": {},
   "outputs": [
    {
     "name": "stdout",
     "output_type": "stream",
     "text": [
      "A: \n",
      " [[10 16 15 12 17]\n",
      " [ 3  1 11  6 18]\n",
      " [11  1  9 18  7]]\n",
      "\n",
      "np.sort(A): \n",
      " [[10 12 15 16 17]\n",
      " [ 1  3  6 11 18]\n",
      " [ 1  7  9 11 18]]\n",
      "\n",
      "np.sort(A, axis=1): \n",
      " [[10 12 15 16 17]\n",
      " [ 1  3  6 11 18]\n",
      " [ 1  7  9 11 18]]\n",
      "\n",
      "the default is sorting the last axis\n",
      "    , which is axis=1. It sorts column while row does not change\n"
     ]
    }
   ],
   "source": [
    "# Reinitalize the array\n",
    "A = np.random.randint(20, size=(3, 5))\n",
    "print(\"A: \\n\", A)\n",
    "\n",
    "# Sort the array\n",
    "print(\"\\nnp.sort(A): \\n\", np.sort(A))\n",
    "print(\"\\nnp.sort(A, axis=1): \\n\", np.sort(A, axis=1))\n",
    "print(\"\\nthe default is sorting the last axis\\n\\\n",
    "    , which is axis=1. It sorts column while row does not change\")\n",
    "\n",
    "# While in C++ we can std::sort with a functor, but python does not support it"
   ]
  },
  {
   "cell_type": "markdown",
   "metadata": {},
   "source": [
    "#### 1.2.3 Min and Max"
   ]
  },
  {
   "cell_type": "code",
   "execution_count": 10,
   "metadata": {},
   "outputs": [
    {
     "name": "stdout",
     "output_type": "stream",
     "text": [
      "A: \n",
      " [[ 0  1  2  3  4]\n",
      " [ 5  6  7  8  9]\n",
      " [10 11 12 13 14]]\n",
      "\n",
      "np.min(A): \n",
      " 0\n",
      "\n",
      "np.min(A, axis=1): \n",
      " [ 0  5 10]\n",
      "\n",
      "np.max(A): \n",
      " 14\n",
      "\n",
      "np.max(A, axis=0): \n",
      " [10 11 12 13 14]\n"
     ]
    }
   ],
   "source": [
    "# Reinitalize the array\n",
    "A = np.arange(15).reshape(3, 5)\n",
    "print(\"A: \\n\", A)\n",
    "\n",
    "# Minimum of all elements of the array\n",
    "print(\"\\nnp.min(A): \\n\", np.min(A))\n",
    "# Minimum of all elements of the array along the row\n",
    "print(\"\\nnp.min(A, axis=1): \\n\", np.min(A, axis=1))\n",
    "\n",
    "# Maximum of all elements of the array\n",
    "print(\"\\nnp.max(A): \\n\", np.max(A))\n",
    "# Maximum of all elements of the array along the column\n",
    "print(\"\\nnp.max(A, axis=0): \\n\", np.max(A, axis=0))"
   ]
  },
  {
   "cell_type": "markdown",
   "metadata": {},
   "source": [
    "#### 1.2.4 Variance, Covariance, Standard Deviation"
   ]
  },
  {
   "cell_type": "code",
   "execution_count": 11,
   "metadata": {},
   "outputs": [
    {
     "name": "stdout",
     "output_type": "stream",
     "text": [
      "A: \n",
      " [[60 65 40 76 55]\n",
      " [58 54 85 20 86]\n",
      " [20 47 37 47 85]]\n",
      "\n",
      "np.var(A): \n",
      " 430.48888888888894\n",
      "\n",
      "np.var(A, axis=1): \n",
      " [140.56 587.84 454.56]\n",
      "\n",
      "np.std(A): \n",
      " 20.748226162467212\n",
      "\n",
      "np.std(A, axis=0): \n",
      " [18.40289832  7.40870359 21.9544984  22.86676385 14.38363267]\n",
      "\n",
      "np.corrcoef(A): \n",
      " [[ 1.         -0.90283917  0.0085453 ]\n",
      " [-0.90283917  1.          0.30619695]\n",
      " [ 0.0085453   0.30619695  1.        ]]\n"
     ]
    }
   ],
   "source": [
    "# Reinitalize the array\n",
    "A = (np.random.rand(3,5)*100).astype(int)\n",
    "print(\"A: \\n\", A)\n",
    "\n",
    "# Variance of all elements of the array\n",
    "print(\"\\nnp.var(A): \\n\", np.var(A))\n",
    "# Variance of all elements of the array along the row\n",
    "print(\"\\nnp.var(A, axis=1): \\n\", np.var(A, axis=1))\n",
    "\n",
    "# Standard deviation of all elements of the array\n",
    "print(\"\\nnp.std(A): \\n\", np.std(A))\n",
    "# Standard deviation of all elements of the array along the column\n",
    "print(\"\\nnp.std(A, axis=0): \\n\", np.std(A, axis=0))\n",
    "\n",
    "# Correlation coefficient of all elements of the array\n",
    "print(\"\\nnp.corrcoef(A): \\n\", np.corrcoef(A))\n"
   ]
  },
  {
   "cell_type": "markdown",
   "metadata": {},
   "source": [
    "## 2. Linear Algebra\n",
    "### 2.1 Elementwise manipulations\n",
    "#### 2.1.1 Addition and Subatraction"
   ]
  },
  {
   "cell_type": "code",
   "execution_count": 12,
   "metadata": {},
   "outputs": [
    {
     "name": "stdout",
     "output_type": "stream",
     "text": [
      "A: \n",
      " [[2 6 8 2 8]\n",
      " [3 7 3 4 5]\n",
      " [2 6 7 8 2]] \n",
      "B: \n",
      " [[1 7 3 9 2]\n",
      " [1 8 5 5 9]\n",
      " [4 9 3 8 1]]\n",
      "\n",
      "A + B: \n",
      " [[ 3 13 11 11 10]\n",
      " [ 4 15  8  9 14]\n",
      " [ 6 15 10 16  3]]\n",
      "\n",
      "Is it' equivalent to 'np.add(A, B)'? \n",
      " True ----Returned by 'np.array_equal(A + B, np.add(A, B))'\n",
      "\n",
      "A - B: \n",
      " [[ 1 -1  5 -7  6]\n",
      " [ 2 -1 -2 -1 -4]\n",
      " [-2 -3  4  0  1]]\n",
      "\n",
      "Is it equivalent to 'np.subtract(A, B)'? \n",
      " True ----Returned by 'np.array_equal(A - B, np.subtract(A, B))'\n"
     ]
    }
   ],
   "source": [
    "# Initialize two arrays (matrices)\n",
    "A = np.random.randint(10, size=(3, 5))\n",
    "B = np.random.randint(10, size=(3, 5))\n",
    "\n",
    "print(\"A: \\n\", A, \"\\nB: \\n\", B)\n",
    "\n",
    "# Element-wise addition of two arrays\n",
    "print(\"\\nA + B: \\n\", A + B)\n",
    "print(\"\\nIs it' equivalent to 'np.add(A, B)'? \\n\", \\\n",
    "    np.array_equal(A + B, np.add(A, B)),\\\n",
    "        \"----Returned by 'np.array_equal(A + B, np.add(A, B))'\")\n",
    "\n",
    "# Element-wise subtraction of two arrays\n",
    "print(\"\\nA - B: \\n\", A - B)\n",
    "print(\"\\nIs it equivalent to 'np.subtract(A, B)'? \\n\", \\\n",
    "    np.array_equal(A - B, np.subtract(A, B)),\\\n",
    "        \"----Returned by 'np.array_equal(A - B, np.subtract(A, B))'\")\n"
   ]
  },
  {
   "cell_type": "markdown",
   "metadata": {},
   "source": [
    "#### 2.1.2 Multiplication and Division"
   ]
  },
  {
   "cell_type": "code",
   "execution_count": 13,
   "metadata": {},
   "outputs": [
    {
     "name": "stdout",
     "output_type": "stream",
     "text": [
      "A: \n",
      " [[8 9 7 4 2]\n",
      " [4 5 7 1 3]\n",
      " [8 0 0 1 5]] \n",
      "B: \n",
      " [[6 0 3 5 4]\n",
      " [8 7 1 7 4]\n",
      " [7 5 5 5 1]]\n",
      "\n",
      "A * B: \n",
      " [[48  0 21 20  8]\n",
      " [32 35  7  7 12]\n",
      " [56  0  0  5  5]]\n",
      "\n",
      "Is it equivalent to 'np.multiply(A, B)'? \n",
      " True ----Returned by 'np.array_equal(A * B, np.multiply(A, B))'\n",
      "\n",
      "A / B: \n",
      " [[1.33333333        inf 2.33333333 0.8        0.5       ]\n",
      " [0.5        0.71428571 7.         0.14285714 0.75      ]\n",
      " [1.14285714 0.         0.         0.2        5.        ]]\n",
      "\n",
      "Is it equivalent to 'np.divide(A, B)'? \n",
      " True ----Returned by 'np.array_equal(A / B, np.divide(A, B))'\n"
     ]
    },
    {
     "name": "stderr",
     "output_type": "stream",
     "text": [
      "C:\\Users\\24707\\AppData\\Local\\Temp\\ipykernel_26028\\3736590940.py:14: RuntimeWarning: divide by zero encountered in divide\n",
      "  print(\"\\nA / B: \\n\", A / B)\n",
      "C:\\Users\\24707\\AppData\\Local\\Temp\\ipykernel_26028\\3736590940.py:16: RuntimeWarning: divide by zero encountered in divide\n",
      "  np.array_equal(A / B, np.divide(A, B)),\\\n"
     ]
    }
   ],
   "source": [
    "# Reinitialize two arrays (matrices)\n",
    "A = np.random.randint(10, size=(3, 5))\n",
    "B = np.random.randint(10, size=(3, 5))\n",
    "\n",
    "print(\"A: \\n\", A, \"\\nB: \\n\", B)\n",
    "\n",
    "# Elementwise multiplication of two arrays\n",
    "print(\"\\nA * B: \\n\", A * B)\n",
    "print(\"\\nIs it equivalent to 'np.multiply(A, B)'? \\n\", \\\n",
    "    np.array_equal(A * B, np.multiply(A, B)),\\\n",
    "        \"----Returned by 'np.array_equal(A * B, np.multiply(A, B))'\")\n",
    "\n",
    "# Elementwise division of two arrays\n",
    "print(\"\\nA / B: \\n\", A / B)\n",
    "print(\"\\nIs it equivalent to 'np.divide(A, B)'? \\n\", \\\n",
    "    np.array_equal(A / B, np.divide(A, B)),\\\n",
    "        \"----Returned by 'np.array_equal(A / B, np.divide(A, B))'\")"
   ]
  },
  {
   "cell_type": "markdown",
   "metadata": {},
   "source": [
    "#### 2.1.3 Elementwise Power"
   ]
  },
  {
   "cell_type": "code",
   "execution_count": 14,
   "metadata": {},
   "outputs": [
    {
     "name": "stdout",
     "output_type": "stream",
     "text": [
      "A: \n",
      " [[1 1 1 3 1]\n",
      " [1 0 3 1 3]\n",
      " [2 3 0 1 3]] \n",
      "B: \n",
      " [[0 2 2 0 0]\n",
      " [3 0 3 0 2]\n",
      " [3 1 2 1 1]]\n",
      "\n",
      "A ** B: \n",
      " [[ 1  1  1  1  1]\n",
      " [ 1  1 27  1  9]\n",
      " [ 8  3  0  1  3]]\n",
      "\n",
      "Is it equivalent to 'np.power(A, B)'? \n",
      " True ----Returned by 'np.array_equal(A ** B, np.power(A, B))'\n"
     ]
    }
   ],
   "source": [
    "# Reinitialize two arrays (matrices)\n",
    "A = np.random.randint(4, size=(3, 5))\n",
    "B = np.random.randint(4, size=(3, 5))\n",
    "\n",
    "print(\"A: \\n\", A, \"\\nB: \\n\", B)\n",
    "\n",
    "# Elementwise power of two arrays\n",
    "print(\"\\nA ** B: \\n\", A ** B)\n",
    "print(\"\\nIs it equivalent to 'np.power(A, B)'? \\n\", \\\n",
    "    np.array_equal(A ** B, np.power(A, B)),\\\n",
    "        \"----Returned by 'np.array_equal(A ** B, np.power(A, B))'\")"
   ]
  },
  {
   "cell_type": "markdown",
   "metadata": {},
   "source": [
    "### 2.2 Matrix mainpulation\n",
    "#### 2.2.1 Transpose"
   ]
  },
  {
   "cell_type": "code",
   "execution_count": 15,
   "metadata": {},
   "outputs": [
    {
     "name": "stdout",
     "output_type": "stream",
     "text": [
      "A: \n",
      " [[6 8 6 6 0]\n",
      " [7 7 9 8 5]\n",
      " [9 7 2 9 1]]\n",
      "\n",
      "A.T: \n",
      " [[6 7 9]\n",
      " [8 7 7]\n",
      " [6 9 2]\n",
      " [6 8 9]\n",
      " [0 5 1]]\n"
     ]
    }
   ],
   "source": [
    "# Initialize an array(matrix)\n",
    "A = np.random.randint(10, size=(3, 5))\n",
    "print(\"A: \\n\", A)\n",
    "\n",
    "# Transpose of the array\n",
    "print(\"\\nA.T: \\n\", A.T)"
   ]
  },
  {
   "cell_type": "markdown",
   "metadata": {},
   "source": [
    "#### 2.2.2 Matrix Multiplication"
   ]
  },
  {
   "cell_type": "code",
   "execution_count": 16,
   "metadata": {},
   "outputs": [
    {
     "name": "stdout",
     "output_type": "stream",
     "text": [
      "A: \n",
      " [[6 0 8 5 3]\n",
      " [7 3 2 5 5]\n",
      " [0 3 8 8 0]] \n",
      "B: \n",
      " [[2 0 9 3 7]\n",
      " [9 2 9 4 1]\n",
      " [1 2 7 1 8]] \n",
      "B.T: \n",
      " [[2 9 1]\n",
      " [0 2 2]\n",
      " [9 9 7]\n",
      " [3 4 1]\n",
      " [7 1 8]]\n",
      "\n",
      "A.dot(B.T): \n",
      " [[120 149  91]\n",
      " [ 82 112  72]\n",
      " [ 96 110  70]]\n",
      "\n",
      "Is it equivalent to 'np.matmul(A, B.T)'? \n",
      " True ----Returned by 'np.array_equal(A.dot(B.T), np.matmul(A, B.T))'\n",
      "\n",
      "Is it equivalent to 'A @ B.T)'? \n",
      " True ----Returned by 'np.array_equal(A.dot(B.T), A @ B.T)'\n"
     ]
    }
   ],
   "source": [
    "# Initialize two arrays (matrices)\n",
    "A = np.random.randint(10, size=(3, 5))\n",
    "B = np.random.randint(10, size=(3, 5))\n",
    "\n",
    "print(\"A: \\n\", A, \"\\nB: \\n\", B, \"\\nB.T: \\n\", B.T)\n",
    "\n",
    "# Dot product of two arrays\n",
    "print(\"\\nA.dot(B.T): \\n\", A.dot(B.T))\n",
    "print(\"\\nIs it equivalent to 'np.matmul(A, B.T)'? \\n\", \\\n",
    "    np.array_equal(A.dot(B.T), np.matmul(A, B.T)),\\\n",
    "        \"----Returned by 'np.array_equal(A.dot(B.T), np.matmul(A, B.T))'\")\n",
    "print(\"\\nIs it equivalent to 'A @ B.T)'? \\n\", \\\n",
    "    np.array_equal(A.dot(B.T), A @ B.T),\\\n",
    "        \"----Returned by 'np.array_equal(A.dot(B.T), A @ B.T)'\")\n"
   ]
  },
  {
   "cell_type": "markdown",
   "metadata": {},
   "source": [
    "#### 2.2.3 Common Linear Algebra Calculation"
   ]
  },
  {
   "cell_type": "code",
   "execution_count": 17,
   "metadata": {},
   "outputs": [
    {
     "name": "stdout",
     "output_type": "stream",
     "text": [
      "A: \n",
      " [[7 2 0]\n",
      " [4 6 9]\n",
      " [5 1 9]]\n",
      "\n",
      "np.linalg.inv(A): \n",
      " [[ 0.13513514 -0.05405405  0.05405405]\n",
      " [ 0.02702703  0.18918919 -0.18918919]\n",
      " [-0.07807808  0.00900901  0.1021021 ]]\n",
      "\n",
      "np.linalg.det(A): \n",
      " 333.0\n",
      "\n",
      "np.linalg.matrix_rank(A): \n",
      " 3\n",
      "\n",
      "np.linalg.eig(A): \n",
      " (array([13.10160333+0.j      ,  4.44919834+2.370943j,\n",
      "        4.44919834-2.370943j]), array([[-0.26574567+0.j        , -0.34105787-0.31700966j,\n",
      "        -0.34105787+0.31700966j],\n",
      "       [-0.81073734+0.j        ,  0.81079142+0.j        ,\n",
      "         0.81079142-0.j        ],\n",
      "       [-0.52161692+0.j        ,  0.01187276+0.35448654j,\n",
      "         0.01187276-0.35448654j]]))\n",
      "\n",
      "np.linalg.svd(A): \n",
      " (array([[-0.27511584,  0.96043808, -0.04324323],\n",
      "       [-0.71872393, -0.23533486, -0.65425791],\n",
      "       [-0.63855085, -0.14891677,  0.75503418]]), array([15.60049953,  6.1206185 ,  3.4874695 ]), array([[-0.51238493, -0.352625  , -0.78301807],\n",
      "       [ 0.82297945,  0.05880945, -0.56501882],\n",
      "       [ 0.24528862, -0.93391491,  0.26007005]]))\n"
     ]
    }
   ],
   "source": [
    "# Initialize an array(matrix)\n",
    "A = np.random.randint(10, size=(3, 3))\n",
    "print(\"A: \\n\", A)\n",
    "\n",
    "# Inverse of the array\n",
    "print(\"\\nnp.linalg.inv(A): \\n\", np.linalg.inv(A))\n",
    "# Determinant of the array\n",
    "print(\"\\nnp.linalg.det(A): \\n\", np.linalg.det(A))\n",
    "# Rank of the array\n",
    "print(\"\\nnp.linalg.matrix_rank(A): \\n\", np.linalg.matrix_rank(A))\n",
    "# Eigenvalues of the array\n",
    "print(\"\\nnp.linalg.eig(A): \\n\", np.linalg.eig(A))\n",
    "# Singular value decomposition of the array\n",
    "print(\"\\nnp.linalg.svd(A): \\n\", np.linalg.svd(A))"
   ]
  }
 ],
 "metadata": {
  "kernelspec": {
   "display_name": "i2dl",
   "language": "python",
   "name": "python3"
  },
  "language_info": {
   "codemirror_mode": {
    "name": "ipython",
    "version": 3
   },
   "file_extension": ".py",
   "mimetype": "text/x-python",
   "name": "python",
   "nbconvert_exporter": "python",
   "pygments_lexer": "ipython3",
   "version": "3.11.9"
  }
 },
 "nbformat": 4,
 "nbformat_minor": 2
}
