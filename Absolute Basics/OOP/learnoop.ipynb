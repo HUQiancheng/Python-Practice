{
 "cells": [
  {
   "cell_type": "code",
   "execution_count": 3,
   "metadata": {},
   "outputs": [
    {
     "name": "stdout",
     "output_type": "stream",
     "text": [
      "Transporting for 50 miles.\n",
      "\n",
      "Inheritance demonstration(Car):\n",
      "Driving for 100 miles.\n",
      "Playing music in the car.\n",
      "\n",
      "\n",
      "Airplane demonstration(Airplane):\n",
      "Flying for 500 miles.\n"
     ]
    }
   ],
   "source": [
    "from src.pysrc.Base import Transportation\n",
    "from src.pysrc.Inheritance import Car\n",
    "from src.pysrc.Polymorphism import Airplane\n",
    "def main():\n",
    "    transport = Transportation(50)\n",
    "    transport.transport()\n",
    "    \n",
    "    car = Car(100)\n",
    "    airplane = Airplane(500)\n",
    "\n",
    "    print(\"\\nInheritance demonstration(Car):\")\n",
    "    car.transport()\n",
    "    car.play_music()\n",
    "\n",
    "    print()\n",
    "\n",
    "    print(\"\\nAirplane demonstration(Airplane):\")\n",
    "    airplane.transport()\n",
    "\n",
    "if __name__ == \"__main__\":\n",
    "    main()"
   ]
  }
 ],
 "metadata": {
  "kernelspec": {
   "display_name": "learnpy",
   "language": "python",
   "name": "python3"
  },
  "language_info": {
   "codemirror_mode": {
    "name": "ipython",
    "version": 3
   },
   "file_extension": ".py",
   "mimetype": "text/x-python",
   "name": "python",
   "nbconvert_exporter": "python",
   "pygments_lexer": "ipython3",
   "version": "3.11.9"
  }
 },
 "nbformat": 4,
 "nbformat_minor": 2
}
