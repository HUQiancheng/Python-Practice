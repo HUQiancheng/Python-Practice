{
 "cells": [
  {
   "cell_type": "markdown",
   "metadata": {},
   "source": [
    "# Simple Neural Network\n",
    "\n",
    "## 1. Data Procedure\n",
    "\n",
    "- We could import some thing needed here in notebook"
   ]
  },
  {
   "cell_type": "code",
   "execution_count": null,
   "metadata": {},
   "outputs": [],
   "source": [
    "# # for file path\n",
    "# import os\n",
    "\n",
    "# # for data manipulation\n",
    "# import numpy as np\n",
    "# import pandas as pd"
   ]
  },
  {
   "cell_type": "markdown",
   "metadata": {},
   "source": [
    "- Then we initialize a dataloader instance to get what it is like: "
   ]
  },
  {
   "cell_type": "code",
   "execution_count": null,
   "metadata": {},
   "outputs": [],
   "source": [
    "# import the DataLoader\n",
    "from src.data.DataLoader import DataLoader\n",
    "\n",
    "# Assuming 'data.csv' is in a folder named 'dataset/data' in the src directory\n",
    "file_path = 'dataset/data/data.csv'\n",
    "\n",
    "# Create an instance of DataLoader\n",
    "data_loader_0 = DataLoader(file_path, shuffle=True)  # setting shuffle to True for testing\n",
    "\n",
    "# Load the data\n",
    "data = data_loader_0.load_data()\n",
    "\n",
    "# Print the first few rows of the data to verify loading\n",
    "print(data.head())\n",
    "\n",
    "# Print what type of data is returned\n",
    "print(type(data))"
   ]
  },
  {
   "cell_type": "markdown",
   "metadata": {},
   "source": [
    "- data_loader is now created, we initialize a data_processor to handle the file"
   ]
  },
  {
   "cell_type": "code",
   "execution_count": null,
   "metadata": {},
   "outputs": [],
   "source": [
    "# Import necessary classes\n",
    "from src.data.DataProcessor import DataProcessor\n",
    "\n",
    "# Load data using DataLoader (if not already loaded)\n",
    "data = data_loader_0.load_data()\n",
    "\n",
    "# Create an instance of DataProcessor\n",
    "# Assuming normalization is desired and the default split proportions are fine\n",
    "data_processor_0 = DataProcessor(data_loader_0, normalize=True)\n",
    "\n",
    "# Process the data to get train, validation, and test sets\n",
    "train_data, validate_data, test_data = data_processor_0.process_data()\n",
    "\n",
    "# Optionally, print the shapes of the datasets to verify everything is as expected\n",
    "print(\"Train Data Shape:\", train_data.shape)\n",
    "print(\"Validation Data Shape:\", validate_data.shape)\n",
    "print(\"Test Data Shape:\", test_data.shape)\n"
   ]
  },
  {
   "cell_type": "markdown",
   "metadata": {},
   "source": [
    "- Using BaseDataset to directly create splited and normalized datasets"
   ]
  },
  {
   "cell_type": "code",
   "execution_count": null,
   "metadata": {},
   "outputs": [],
   "source": [
    "from src.data.BaseDataset import BaseDataset\n",
    "\n",
    "# Assume file_path is correctly defined relative to the script running this code\n",
    "dataset = BaseDataset('dataset/data/data.csv', shuffle=True, normalize=True)\n",
    "train_data, validate_data, test_data = dataset.prepare_data()\n",
    "\n",
    "# Optionally, directly access data from the dataset object later\n",
    "print(dataset.train_data.head())\n",
    "print(dataset.validate_data.head())\n",
    "print(dataset.test_data.head())\n"
   ]
  },
  {
   "cell_type": "markdown",
   "metadata": {},
   "source": [
    "- Using matplotlib to plot SOME of the data features"
   ]
  },
  {
   "cell_type": "code",
   "execution_count": null,
   "metadata": {},
   "outputs": [],
   "source": [
    "from src.data.Utils_Data import plot_all_histograms\n",
    "\n",
    "# Plotting the histogram of train_data for 'x1'\n",
    "plot_all_histograms(dataset.train_data, exclude_columns=['target'])\n"
   ]
  },
  {
   "cell_type": "markdown",
   "metadata": {},
   "source": [
    "## 2. Modeling Procedure"
   ]
  }
 ],
 "metadata": {
  "kernelspec": {
   "display_name": "learnpy",
   "language": "python",
   "name": "python3"
  },
  "language_info": {
   "codemirror_mode": {
    "name": "ipython",
    "version": 3
   },
   "file_extension": ".py",
   "mimetype": "text/x-python",
   "name": "python",
   "nbconvert_exporter": "python",
   "pygments_lexer": "ipython3",
   "version": "3.11.9"
  }
 },
 "nbformat": 4,
 "nbformat_minor": 2
}
